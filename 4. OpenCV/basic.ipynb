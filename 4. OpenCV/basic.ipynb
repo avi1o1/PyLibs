{
 "cells": [
  {
   "cell_type": "markdown",
   "metadata": {},
   "source": [
    "# **OpenCV**\n",
    "### Largest open source computer vision and machine learning software library\n",
    "- Great tool for image processing and performing computer vision tasks.\n",
    "- Supports real time operations, enabling a wide range of usages and capabilities.\n",
    "- Open-source library useful for performing tasks like object detection, tracking and much more.\n",
    "<hr>"
   ]
  },
  {
   "cell_type": "markdown",
   "metadata": {},
   "source": [
    "Importing Libraries"
   ]
  },
  {
   "cell_type": "code",
   "execution_count": 25,
   "metadata": {},
   "outputs": [],
   "source": [
    "import cv2 as cv\n",
    "import numpy as np"
   ]
  },
  {
   "cell_type": "markdown",
   "metadata": {},
   "source": [
    "Displaying Image and Video"
   ]
  },
  {
   "cell_type": "code",
   "execution_count": 26,
   "metadata": {},
   "outputs": [
    {
     "data": {
      "text/plain": [
       "113"
      ]
     },
     "execution_count": 26,
     "metadata": {},
     "output_type": "execute_result"
    }
   ],
   "source": [
    "img = cv.imread(\"Data/Images/3.jpg\")\n",
    "cv.imshow(\"Image\", img)\n",
    "cv.waitKey(0)                                                       # Keeping image open [ 0 : infinite time ]"
   ]
  },
  {
   "cell_type": "code",
   "execution_count": 27,
   "metadata": {},
   "outputs": [],
   "source": [
    "def displayVid(vid):\n",
    "    while True:\n",
    "        isTrue, frame = vid.read()\n",
    "\n",
    "        if frame is None:\n",
    "            break\n",
    "\n",
    "        cv.imshow('Video', frame)\n",
    "\n",
    "        if cv.waitKey(33) and 0xFF==ord('q'):\n",
    "            break\n",
    "\n",
    "    vid.release()                                                   # Release resources associated with the capture\n",
    "    cv.destroyAllWindows()                                          # Close all HighGUI windows\n",
    "\n",
    "vid = cv.VideoCapture(\"Data/Videos/1.mp4\")                          # Reading video [ 0 for webcam ]\n",
    "displayVid(vid)"
   ]
  },
  {
   "cell_type": "markdown",
   "metadata": {},
   "source": [
    "Annotating on Frames"
   ]
  },
  {
   "cell_type": "code",
   "execution_count": 28,
   "metadata": {},
   "outputs": [],
   "source": [
    "frame = np.zeros((500, 500, 3), dtype='uint8')\n",
    "cv.imshow('Blank', frame)\n",
    "\n",
    "frame[200:300, 200:300] = 238, 153, 102\n",
    "cv.imshow('Fill Colour', frame)\n",
    "\n",
    "cv.line(frame, (250, 250), (250, 100), (255, 255, 255), thickness=3)\n",
    "cv.imshow('Line', frame)\n",
    "\n",
    "cv.rectangle(frame, (100, 300), (400, 400), (0, 0, 255), thickness=-1)\n",
    "cv.imshow('Rectangle', frame)\n",
    "\n",
    "cv.circle(frame, (250, 250), 150, (0, 255, 0), thickness=2)\n",
    "cv.imshow('Circle', frame)\n",
    "\n",
    "cv.putText(frame, 'Sup Loser!', (161, 350), cv.FONT_HERSHEY_PLAIN, 2, (0, 255, 0), 3)\n",
    "cv.imshow('Text', frame)\n",
    "\n",
    "if cv.waitKey(0) & 0xFF == ord('q'):                                # Press 'q' to close all frame windows\n",
    "    cv.destroyAllWindows()"
   ]
  },
  {
   "cell_type": "markdown",
   "metadata": {},
   "source": [
    "Basic Functions [ Rescale / Resize / Crop / Translate / Rotate / Flip ]"
   ]
  },
  {
   "cell_type": "code",
   "execution_count": null,
   "metadata": {},
   "outputs": [],
   "source": [
    "def rescaling(frame, scale=1):\n",
    "    height = int(frame.shape[0] * scale)\n",
    "    width = int(frame.shape[1] * scale)\n",
    "    dim = (width, height)\n",
    "    return cv.resize(frame, dim, interpolation=cv.INTER_AREA)"
   ]
  },
  {
   "cell_type": "code",
   "execution_count": null,
   "metadata": {},
   "outputs": [],
   "source": [
    "def resizing(frame, width=None, height=None):\n",
    "    if width is None and height is None:\n",
    "        return frame\n",
    "    else:\n",
    "        return cv.resize(frame, (width, height), interpolation=cv.INTER_AREA)"
   ]
  },
  {
   "cell_type": "code",
   "execution_count": null,
   "metadata": {},
   "outputs": [],
   "source": [
    "def croping(img, x1, x2, y1, y2):\n",
    "    return img[y1:y2, x1:x2]"
   ]
  },
  {
   "cell_type": "code",
   "execution_count": null,
   "metadata": {},
   "outputs": [],
   "source": [
    "def translating(img, x, y):                                             # +ve x : right , +ve y : down\n",
    "    import numpy as np\n",
    "    transMat = np.float32([[1, 0, x], [0, 1, y]])\n",
    "    dimensions = (img.shape[1], img.shape[0])\n",
    "    return cv.warpAffine(img, transMat, dimensions)"
   ]
  },
  {
   "cell_type": "code",
   "execution_count": null,
   "metadata": {},
   "outputs": [],
   "source": [
    "def rotating(img, angle, rotPoint=None):                                # -ve angle : clockwise\n",
    "    height, width = img.shape[:2]\n",
    "    if rotPoint is None:\n",
    "        rotPoint = (width//2, height//2)\n",
    "\n",
    "    rotMat = cv.getRotationMatrix2D(rotPoint, angle, 1)\n",
    "    dimensions = (width, height)\n",
    "    return cv.warpAffine(img, rotMat, dimensions)"
   ]
  },
  {
   "cell_type": "code",
   "execution_count": null,
   "metadata": {},
   "outputs": [],
   "source": [
    "def flip(img, flipCode):                                                # 0 : vertical , 1 : horizontal , -1 : both\n",
    "    return cv.flip(img, flipCode)"
   ]
  },
  {
   "cell_type": "code",
   "execution_count": null,
   "metadata": {},
   "outputs": [],
   "source": [
    "img = cv.imread(\"Data/Images/3.jpg\")\n",
    "cv.imshow('Original', img)\n",
    "\n",
    "cv.imshow('Rescaled', rescaling(img, 0.5))\n",
    "cv.imshow('Resized', resizing(img, 500, 300))\n",
    "cv.imshow('Cropped', croping(img, 550, 725, 600, 800))\n",
    "cv.imshow('Translated', translating(img, 50, 50))\n",
    "cv.imshow('Rotated', rotating(img, -10, (0, 0)))\n",
    "cv.imshow('Flipped', flip(img, -1))\n",
    "\n",
    "if cv.waitKey(0) & 0xFF == ord('q'):\n",
    "    cv.destroyAllWindows()"
   ]
  },
  {
   "cell_type": "markdown",
   "metadata": {},
   "source": [
    "Intermediate Functions [ Gray / Blur / Edge-Detect / Dilate / Erode ]"
   ]
  },
  {
   "cell_type": "code",
   "execution_count": null,
   "metadata": {},
   "outputs": [],
   "source": [
    "def gray(img):\n",
    "    return cv.cvtColor(img, cv.COLOR_BGR2GRAY)\n",
    "\n",
    "def blur(img):\n",
    "    return cv.GaussianBlur(img, (5, 5), 0)\n",
    "\n",
    "def canny(img, minVal, maxVal):\n",
    "    return cv.Canny(img, minVal, maxVal)\n",
    "\n",
    "def dilate(img, kernel, iterations):\n",
    "    return cv.dilate(img, kernel, iterations=iterations)\n",
    "\n",
    "def erode(img, kernel, iterations):                                     # Reverse of dilation, in some sense\n",
    "    return cv.erode(img, kernel, iterations=iterations)"
   ]
  },
  {
   "cell_type": "code",
   "execution_count": null,
   "metadata": {},
   "outputs": [],
   "source": [
    "img = rescaling(cv.imread(\"Data/Images/3.jpg\"), 0.37)\n",
    "cv.imshow('Original', img)\n",
    "\n",
    "cv.imshow('Blurred', blur(img))\n",
    "cv.imshow('Grayscale', gray(img))\n",
    "cv.imshow('Canny', canny(blur(img), 125, 175))\n",
    "cv.imshow('Dilated', dilate(canny(blur(img), 125, 175) , (3, 3), 1))\n",
    "cv.imshow('Eroded', erode(dilate(canny(blur(img), 125, 175) , (3, 3), 1), (3, 3), 1))\n",
    "\n",
    "if cv.waitKey(0) & 0xFF == ord('q'):\n",
    "    cv.destroyAllWindows()"
   ]
  },
  {
   "cell_type": "markdown",
   "metadata": {},
   "source": [
    "Bitwise Operations and Masking"
   ]
  },
  {
   "cell_type": "code",
   "execution_count": null,
   "metadata": {},
   "outputs": [],
   "source": [
    "blank = np.zeros((500, 500, 3), dtype='uint8')\n",
    "b1 = cv.rectangle(blank.copy(), (100, 100), (400, 400), 255, -1)\n",
    "b2 = cv.circle(blank.copy(), (250, 250), 175, 255, -1)\n",
    "cv.imshow('b1', b1)\n",
    "cv.imshow('b2', b2)\n",
    "\n",
    "cv.imshow('Bitwise AND', cv.bitwise_and(b1, b2))\n",
    "cv.imshow('Bitwise OR', cv.bitwise_or(b1, b2))\n",
    "cv.imshow('Bitwise XOR', cv.bitwise_xor(b1, b2))\n",
    "cv.imshow('Bitwise NOT', cv.bitwise_not(b2))\n",
    "\n",
    "if cv.waitKey(0) & 0xFF == ord('q'):\n",
    "    cv.destroyAllWindows()"
   ]
  },
  {
   "cell_type": "code",
   "execution_count": null,
   "metadata": {},
   "outputs": [],
   "source": [
    "img = rescaling(cv.imread(\"Data/Images/3.jpg\"), 0.37)\n",
    "cv.imshow('Original', img)\n",
    "\n",
    "blank = np.zeros((img.shape[0], img.shape[1], 1), dtype='uint8')\n",
    "mask = cv.circle(blank.copy(), (img.shape[1]//2, img.shape[0]//2), 69, 255, -1)\n",
    "cv.imshow('Blank', mask)\n",
    "\n",
    "masked = cv.bitwise_and(img, img, mask=mask)\n",
    "cv.imshow('Masked', masked)\n",
    "\n",
    "if cv.waitKey(0) & 0xFF == ord('q'):\n",
    "    cv.destroyAllWindows()"
   ]
  },
  {
   "cell_type": "code",
   "execution_count": null,
   "metadata": {},
   "outputs": [],
   "source": [
    "# cv.imshow('RotatedRotate', rotate(rotate(img, -10, (0, 0)), 10, (0, 0)))  # Data is lost in rotation\n",
    "# for i in range(361):\n",
    "#     cv.imshow('Rotating', rotate(img, i))\n",
    "#     if cv.waitKey(5) and 0xFF==ord('q'):\n",
    "#         break"
   ]
  }
 ],
 "metadata": {
  "kernelspec": {
   "display_name": "Python 3",
   "language": "python",
   "name": "python3"
  },
  "language_info": {
   "codemirror_mode": {
    "name": "ipython",
    "version": 3
   },
   "file_extension": ".py",
   "mimetype": "text/x-python",
   "name": "python",
   "nbconvert_exporter": "python",
   "pygments_lexer": "ipython3",
   "version": "3.11.4"
  }
 },
 "nbformat": 4,
 "nbformat_minor": 2
}
