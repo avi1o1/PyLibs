{
 "cells": [
  {
   "cell_type": "markdown",
   "metadata": {},
   "source": [
    "# **Plotly**\n",
    "### Data visualisation library based on matplotlib\n",
    "- Built in themes for styling matplotlib graphics, yielding better visualisations\n",
    "- Better compatible for NumPy and Pandas data structures\n",
    "- Eases a lot of things, that are considered hard for MatPlotLib"
   ]
  },
  {
   "cell_type": "markdown",
   "metadata": {},
   "source": [
    "<hr>"
   ]
  },
  {
   "cell_type": "markdown",
   "metadata": {},
   "source": [
    "# Work in Progress..."
   ]
  }
 ],
 "metadata": {
  "language_info": {
   "name": "python"
  }
 },
 "nbformat": 4,
 "nbformat_minor": 2
}
