{
 "cells": [
  {
   "cell_type": "markdown",
   "metadata": {},
   "source": [
    "# **Pandas**\n",
    "### Python's most widely used Data Analysis and Manipulation Tool\n",
    "- Fast, Powerful, Flexible, Easy to Use and Open Source.\n",
    "- Ease of data handling like missing values, type conversions, organising, etc.\n",
    "- Widely compatible with other resources, making it an excellent choice for ML algorithms.\n",
    "<hr>"
   ]
  },
  {
   "cell_type": "markdown",
   "metadata": {},
   "source": [
    "Importing Library"
   ]
  },
  {
   "cell_type": "code",
   "execution_count": 2,
   "metadata": {},
   "outputs": [],
   "source": [
    "import pandas as pd"
   ]
  },
  {
   "cell_type": "markdown",
   "metadata": {},
   "source": [
    "Series"
   ]
  },
  {
   "cell_type": "code",
   "execution_count": 3,
   "metadata": {},
   "outputs": [
    {
     "name": "stdout",
     "output_type": "stream",
     "text": [
      "0    6\n",
      "1    1\n",
      "2    9\n",
      "dtype: int64\n",
      "\n",
      "a    6\n",
      "v    1\n",
      "i    9\n",
      "dtype: int64\n",
      "\n",
      "ur     YaMi\n",
      "mom    GuSe\n",
      "gey    ViPa\n",
      "dtype: object\n",
      "\n",
      "1    69\n",
      "2    69\n",
      "3    69\n",
      "dtype: int64\n"
     ]
    }
   ],
   "source": [
    "ele = [6, 1, 9]\n",
    "idx = ['a', 'v', 'i']\n",
    "\n",
    "print(pd.Series(ele))\n",
    "print()\n",
    "print(pd.Series(ele, index=idx))\n",
    "print() \n",
    "print(pd.Series({'ur': 'YaMi', 'mom': 'GuSe', 'gey': 'ViPa'}))\n",
    "print()\n",
    "print(pd.Series(69, index=[1, 2, 3]))"
   ]
  },
  {
   "cell_type": "markdown",
   "metadata": {},
   "source": [
    "DataFrame"
   ]
  },
  {
   "cell_type": "code",
   "execution_count": 4,
   "metadata": {},
   "outputs": [
    {
     "name": "stdout",
     "output_type": "stream",
     "text": [
      "   A  B  C\n",
      "0  1  4  7\n",
      "1  2  5  8\n",
      "2  3  6  9\n",
      "\n",
      "   g  s\n",
      "0  7  1\n",
      "1  2  0\n",
      "2  1  1\n",
      "3  1  1\n",
      "4  4  4\n",
      "\n",
      "   A  B  C\n",
      "a  1  2  3\n",
      "b  4  5  6\n",
      "c  7  8  9\n"
     ]
    }
   ],
   "source": [
    "print(pd.DataFrame({'A': [1, 2, 3], 'B': [4, 5, 6], 'C': [7, 8, 9]}))\n",
    "print()\n",
    "print(pd.DataFrame({'g': pd.Series([7, 2, 1, 1, 4]), 's': pd.Series([1, 0, 1, 1, 4])}))\n",
    "print()\n",
    "print(pd.DataFrame([[1, 2, 3], [4, 5, 6], [7, 8, 9]], columns=['A', 'B', 'C'], index=['a', 'b', 'c']))"
   ]
  },
  {
   "cell_type": "markdown",
   "metadata": {},
   "source": [
    "Reading / Writing from External File"
   ]
  },
  {
   "cell_type": "code",
   "execution_count": 5,
   "metadata": {},
   "outputs": [
    {
     "name": "stdout",
     "output_type": "stream",
     "text": [
      "   Name  Age City\n",
      "0  GuSe   19   DL\n",
      "1  YaMi   15   HY\n",
      "2  ViPa   18   UP\n",
      "\n",
      "   Name  Age City\n",
      "0  GuSe   19   DL\n",
      "1  YaMi   15   HY\n",
      "\n",
      "   Name City\n",
      "0  GuSe   DL\n",
      "1  YaMi   HY\n",
      "2  ViPa   UP\n",
      "\n",
      "   Name  Age City\n",
      "0  YaMi   15   HY\n"
     ]
    }
   ],
   "source": [
    "dat = {'Name': ['GuSe', 'YaMi', 'ViPa'], 'Age': [19, 15, 18], 'City': ['DL', 'HY', 'UP']}\n",
    "frame = pd.DataFrame(dat)\n",
    "\n",
    "frame.to_csv('Data/People.csv', index=False)\n",
    "\n",
    "print(pd.read_csv('Data/People.csv'))\n",
    "print()\n",
    "print(pd.read_csv('Data/People.csv', nrows=2))\n",
    "print()\n",
    "print(pd.read_csv('Data/People.csv', usecols=[\"Name\", \"City\"]))\n",
    "print()\n",
    "print(pd.read_csv('Data/People.csv', skiprows=[1, 3]))"
   ]
  },
  {
   "cell_type": "markdown",
   "metadata": {},
   "source": [
    "Reading from a URL"
   ]
  },
  {
   "cell_type": "code",
   "execution_count": 6,
   "metadata": {},
   "outputs": [
    {
     "name": "stdout",
     "output_type": "stream",
     "text": [
      "   star_rating                     title content_rating   genre  duration  \\\n",
      "0          9.3  The Shawshank Redemption              R   Crime       142   \n",
      "1          9.2             The Godfather              R   Crime       175   \n",
      "2          9.1    The Godfather: Part II              R   Crime       200   \n",
      "3          9.0           The Dark Knight          PG-13  Action       152   \n",
      "4          8.9              Pulp Fiction              R   Crime       154   \n",
      "\n",
      "                                         actors_list  \n",
      "0  [u'Tim Robbins', u'Morgan Freeman', u'Bob Gunt...  \n",
      "1    [u'Marlon Brando', u'Al Pacino', u'James Caan']  \n",
      "2  [u'Al Pacino', u'Robert De Niro', u'Robert Duv...  \n",
      "3  [u'Christian Bale', u'Heath Ledger', u'Aaron E...  \n",
      "4  [u'John Travolta', u'Uma Thurman', u'Samuel L....  \n",
      "   0   1  2           3      4\n",
      "0  1  24  M  technician  85711\n",
      "1  2  53  F       other  94043\n",
      "2  3  23  M      writer  32067\n",
      "3  4  24  M  technician  43537\n",
      "4  5  33  F       other  15213\n"
     ]
    }
   ],
   "source": [
    "data = pd.read_table(\"http://bit.ly/imdbratings\", sep=\",\")                      # Default sep is \"\\t\"\n",
    "print(data.head())\n",
    "\n",
    "data = pd.read_table(\"http://bit.ly/movieusers\", sep=\"|\", header=None)          # No header\n",
    "print(data.head())"
   ]
  },
  {
   "cell_type": "markdown",
   "metadata": {},
   "source": [
    "Basic Properties"
   ]
  },
  {
   "cell_type": "code",
   "execution_count": 34,
   "metadata": {},
   "outputs": [
    {
     "name": "stdout",
     "output_type": "stream",
     "text": [
      "          City Colors Reported Shape Reported State             Time\n",
      "0       Ithaca             NaN       TRIANGLE    NY   6/1/1930 22:00\n",
      "1  Willingboro             NaN          OTHER    NJ  6/30/1930 20:00\n",
      "2      Holyoke             NaN           OVAL    CO  2/15/1931 14:00\n",
      "\n",
      "Shape of the data : (18241, 5)\n",
      "Index values : RangeIndex(start=0, stop=18241, step=1)\n",
      "List of column names : Index(['City', 'Colors Reported', 'Shape Reported', 'State', 'Time'], dtype='object')\n",
      "Number of unique values : 27\n",
      "['TRIANGLE' 'OTHER' 'OVAL' 'DISK' 'LIGHT' 'CIRCLE' 'CIGAR' 'CYLINDER'\n",
      " 'FIREBALL' 'SPHERE' nan 'RECTANGLE' 'FORMATION' 'FLASH' 'CHEVRON' 'EGG'\n",
      " 'CONE' 'DIAMOND' 'VARIOUS' 'TEARDROP' 'CROSS' 'DELTA' 'ROUND' 'DOME'\n",
      " 'PYRAMID' 'CRESCENT' 'FLARE' 'HEXAGON']\n",
      "\n",
      "Shape Reported\n",
      "LIGHT       2803\n",
      "DISK        2122\n",
      "TRIANGLE    1889\n",
      "Name: count, dtype: int64\n",
      "\n",
      "Shape Reported\n",
      "LIGHT       0.179714\n",
      "DISK        0.136052\n",
      "TRIANGLE    0.121113\n",
      "Name: proportion, dtype: float64\n"
     ]
    }
   ],
   "source": [
    "data = pd.read_csv(\"http://bit.ly/uforeports\")\n",
    "print(data.head(3))                                                             # Use tail() for last 5 records\n",
    "print()\n",
    "\n",
    "print(\"Shape of the data :\", data.shape)\n",
    "print(\"Index values :\", data.index)\n",
    "print(\"List of column names :\", data.columns)\n",
    "print(\"Number of unique values :\", data[\"Shape Reported\"].nunique())\n",
    "print(data[\"Shape Reported\"].unique())\n",
    "\n",
    "print()\n",
    "print(data[\"Shape Reported\"].value_counts().head(3))\n",
    "print()\n",
    "print(data[\"Shape Reported\"].value_counts(normalize=True).head(3))              # Percentage/100 of unique values\n"
   ]
  },
  {
   "cell_type": "markdown",
   "metadata": {},
   "source": [
    "Accessing Elements"
   ]
  },
  {
   "cell_type": "code",
   "execution_count": 8,
   "metadata": {},
   "outputs": [
    {
     "name": "stdout",
     "output_type": "stream",
     "text": [
      "3\n",
      "a    1\n",
      "b    4\n",
      "c    7\n",
      "Name: A, dtype: int64\n",
      "A    1\n",
      "B    2\n",
      "C    3\n",
      "Name: a, dtype: int64\n",
      "a    3\n",
      "b    6\n",
      "c    9\n",
      "Name: C, dtype: int64\n",
      "   A  B  C\n",
      "a  1  2  3\n",
      "b  4  0  6\n",
      "c  7  8  9\n"
     ]
    }
   ],
   "source": [
    "s = pd.Series([1, 2, 3, 4], index=['a', 'b', 'c', 'd'])\n",
    "print(s.loc['c'])                                                                   # Same as s['c']\n",
    "\n",
    "d = pd.DataFrame([[1, 2, 3], [4, 5, 6], [7, 8, 9]], columns=['A', 'B', 'C'], index=['a', 'b', 'c'])\n",
    "print(d['A'])\n",
    "print(d.loc['a'])                                                                   # Same as d.iloc[0]\n",
    "print(d.iloc[:, -1])\n",
    "\n",
    "d.loc[\"b\", \"B\"] = 0\n",
    "print(d)"
   ]
  },
  {
   "cell_type": "markdown",
   "metadata": {},
   "source": [
    "Indexing"
   ]
  },
  {
   "cell_type": "code",
   "execution_count": 9,
   "metadata": {},
   "outputs": [
    {
     "name": "stdout",
     "output_type": "stream",
     "text": [
      "   A  C\n",
      "0  1  7\n",
      "1  2  8\n",
      "2  3  9\n",
      "\n",
      "   C\n",
      "A   \n",
      "1  7\n",
      "2  8\n",
      "3  9\n",
      "\n",
      "   C\n",
      "1  7\n",
      "2  8\n",
      "3  9\n",
      "\n",
      "   index  C\n",
      "0      1  7\n",
      "1      2  8\n",
      "2      3  9\n"
     ]
    }
   ],
   "source": [
    "d = pd.DataFrame({'A': [1, 2, 3], 'C': [7, 8, 9]})\n",
    "print(d)\n",
    "print()\n",
    "\n",
    "d.set_index('A', inplace=True)\n",
    "print(d)\n",
    "print()\n",
    "\n",
    "d.index.name = None\n",
    "print(d)\n",
    "print()\n",
    "\n",
    "d.reset_index(inplace=True)\n",
    "print(d)"
   ]
  },
  {
   "cell_type": "markdown",
   "metadata": {},
   "source": [
    "Row / Column Manipulation"
   ]
  },
  {
   "cell_type": "code",
   "execution_count": 10,
   "metadata": {},
   "outputs": [
    {
     "name": "stdout",
     "output_type": "stream",
     "text": [
      "   A  C\n",
      "0  0  7\n",
      "1  2  8\n",
      "2  3  9\n",
      "   A  C\n",
      "0  0  5\n",
      "1  2  8\n",
      "2  3  9\n",
      "   A  C\n",
      "0  5  7\n",
      "1  5  8\n",
      "2  5  9\n",
      "   A  B  C\n",
      "0  1  4  7\n",
      "1  2  5  8\n",
      "2  3  6  9\n",
      "0    4\n",
      "1    5\n",
      "2    6\n",
      "Name: B, dtype: int64\n",
      "   A  C\n",
      "0  1  7\n",
      "1  2  8\n",
      "2  3  9\n"
     ]
    }
   ],
   "source": [
    "d = pd.DataFrame({'A': [1, 2, 3], 'C': [7, 8, 9]})\n",
    "\n",
    "print(d.replace(1, 0))\n",
    "print(d.replace({1: 0, 7: 5}))\n",
    "print(d.replace([1, 2, 3], 5))\n",
    "\n",
    "d.insert(1, 'B', [4, 5, 6])\n",
    "print(d)\n",
    "\n",
    "print(d.pop(\"B\"))\n",
    "print(d)"
   ]
  },
  {
   "cell_type": "markdown",
   "metadata": {},
   "source": [
    "Operations"
   ]
  },
  {
   "cell_type": "code",
   "execution_count": 11,
   "metadata": {},
   "outputs": [
    {
     "name": "stdout",
     "output_type": "stream",
     "text": [
      "0     7\n",
      "1    11\n",
      "2     7\n",
      "3     6\n",
      "4     5\n",
      "dtype: int64\n",
      "0     NaN\n",
      "1    27.0\n",
      "2    28.0\n",
      "3    29.0\n",
      "4    30.0\n",
      "5     NaN\n",
      "dtype: float64\n",
      "0     5\n",
      "1     7\n",
      "2     9\n",
      "3    11\n",
      "dtype: int64\n",
      "A     5\n",
      "B    11\n",
      "C     7\n",
      "dtype: int64\n",
      "   A  B  C  B < 5\n",
      "0  1  4  7   True\n",
      "1  2  5  8  False\n",
      "2  3  6  9  False\n"
     ]
    }
   ],
   "source": [
    "a = pd.Series([1, 2, 3, 4, 5])\n",
    "b = pd.Series([6, 9, 4, 2, 0])\n",
    "c = pd.Series(25, index=[1, 2, 3, 4, 5])\n",
    "print(a + b)                                                                      # Arithmetic operation\n",
    "print(a + c)                                                                      # Missing indexes\n",
    "\n",
    "e = pd.DataFrame({'A': [1, 2, 3, 4], 'B': [4, 5, 6, 7], 'C': [7, 8, 9, 0]})\n",
    "print(e[\"A\"] + e[\"B\"])                                                            # Column wise operation\n",
    "print(e.iloc[0] + e.iloc[-1])                                                     # Row wise operations\n",
    "\n",
    "f = pd.DataFrame({'A': [1, 2, 3], 'B': [4, 5, 6], 'C': [7, 8, 9]})\n",
    "f[\"B < 5\"] = f[\"B\"] < 5                                                           # Conditional operations\n",
    "print(f)"
   ]
  },
  {
   "cell_type": "markdown",
   "metadata": {},
   "source": [
    "Some Useful Functions"
   ]
  },
  {
   "cell_type": "code",
   "execution_count": 51,
   "metadata": {},
   "outputs": [
    {
     "name": "stdout",
     "output_type": "stream",
     "text": [
      "   star_rating                     title content_rating  genre  duration\n",
      "0          9.3  The Shawshank Redemption              R  Crime       142\n",
      "1          9.2             The Godfather              R  Crime       175\n",
      "2          9.1    The Godfather: Part II              R  Crime       200\n",
      "\n",
      "   star_rating                   title content_rating   genre  duration\n",
      "1          9.2           The Godfather              R   Crime       175\n",
      "2          9.1  The Godfather: Part II              R   Crime       200\n",
      "3          9.0         The Dark Knight          PG-13  Action       152\n",
      "\n",
      "   rating                   title content   genre  duration\n",
      "1     9.2           The Godfather       R   Crime       175\n",
      "2     9.1  The Godfather: Part II       R   Crime       200\n",
      "3     9.0         The Dark Knight   PG-13  Action       152\n",
      "\n",
      "           rating    duration\n",
      "count  978.000000  978.000000\n",
      "mean     7.888344  120.958078\n",
      "std      0.333198   26.222793\n",
      "min      7.400000   64.000000\n",
      "25%      7.600000  102.000000\n",
      "50%      7.800000  117.000000\n",
      "75%      8.100000  133.750000\n",
      "max      9.200000  242.000000\n"
     ]
    }
   ],
   "source": [
    "data = pd.read_csv(\"http://bit.ly/imdbratings\")\n",
    "data.drop(\"actors_list\", axis=1, inplace=True)\n",
    "print(data.head(3), end=\"\\n\\n\")\n",
    "\n",
    "data.drop(0, axis=0, inplace=True)\n",
    "print(data.head(3), end=\"\\n\\n\")\n",
    "\n",
    "data.rename(columns={\"star_rating\": \"rating\", \"content_rating\": \"content\"}, inplace=True)\n",
    "data.columns = data.columns.str.lower()\n",
    "print(data.head(3), end=\"\\n\\n\")\n",
    "\n",
    "print(data.describe())"
   ]
  }
 ],
 "metadata": {
  "kernelspec": {
   "display_name": "Python 3",
   "language": "python",
   "name": "python3"
  },
  "language_info": {
   "codemirror_mode": {
    "name": "ipython",
    "version": 3
   },
   "file_extension": ".py",
   "mimetype": "text/x-python",
   "name": "python",
   "nbconvert_exporter": "python",
   "pygments_lexer": "ipython3",
   "version": "3.11.4"
  }
 },
 "nbformat": 4,
 "nbformat_minor": 2
}
