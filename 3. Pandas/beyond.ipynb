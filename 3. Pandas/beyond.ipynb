{
 "cells": [
  {
   "cell_type": "code",
   "execution_count": 24,
   "metadata": {},
   "outputs": [],
   "source": [
    "import pandas as pd"
   ]
  },
  {
   "cell_type": "markdown",
   "metadata": {},
   "source": [
    "Merge, Concat and Join"
   ]
  },
  {
   "cell_type": "code",
   "execution_count": 25,
   "metadata": {},
   "outputs": [
    {
     "name": "stdout",
     "output_type": "stream",
     "text": [
      "   A  B  C\n",
      "0  1  4  7\n",
      "1  3  6  9\n",
      "\n",
      "   A  B    C\n",
      "0  1  4  7.0\n",
      "1  2  5  NaN\n",
      "2  3  6  9.0\n",
      "\n",
      "     A  B    C      _merge\n",
      "0  NaN  0  8.0  right_only\n",
      "1  1.0  4  7.0        both\n",
      "2  2.0  5  NaN   left_only\n",
      "3  3.0  6  9.0        both\n",
      "\n",
      "   Ai  Bi  Ci  Aj  Bj  Cj\n",
      "0   1   4   7   9   6   3\n",
      "1   2   5   8   8   5   2\n",
      "2   3   6   9   7   4   1\n"
     ]
    }
   ],
   "source": [
    "a = pd.DataFrame({'A': [1, 2, 3], 'B': [4, 5, 6]})\n",
    "b = pd.DataFrame({'B': [4, 0, 6], 'C': [7, 8, 9]})\n",
    "\n",
    "print(pd.merge(a, b))\n",
    "print()\n",
    "print(pd.merge(a, b, how=\"left\"))\n",
    "print()\n",
    "print(pd.merge(a, b, how=\"outer\", indicator=True))\n",
    "print()\n",
    "\n",
    "c = pd.DataFrame({'A': [1, 2, 3], 'B': [4, 5, 6], 'C': [7, 8, 9]})\n",
    "d = pd.DataFrame({'A': [9, 8, 7], 'B': [6, 5, 4], 'C': [3, 2, 1]})\n",
    "print(pd.merge(c, d, right_index=True, left_index=True, suffixes=('i', 'j')))"
   ]
  },
  {
   "cell_type": "code",
   "execution_count": 26,
   "metadata": {},
   "outputs": [
    {
     "name": "stdout",
     "output_type": "stream",
     "text": [
      "     A  B    C\n",
      "0  1.0  4  NaN\n",
      "1  2.0  5  NaN\n",
      "2  3.0  6  NaN\n",
      "0  NaN  4  7.0\n",
      "1  NaN  5  8.0\n",
      "2  NaN  6  9.0\n",
      "\n",
      "   A  B  B  C\n",
      "0  1  4  4  7\n",
      "1  2  5  5  8\n",
      "2  3  6  6  9\n",
      "\n",
      "   B\n",
      "0  4\n",
      "1  5\n",
      "2  6\n",
      "0  4\n",
      "1  5\n",
      "2  6\n",
      "\n",
      "        A  B    C\n",
      "d1 0  1.0  4  NaN\n",
      "   1  2.0  5  NaN\n",
      "   2  3.0  6  NaN\n",
      "d2 0  NaN  4  7.0\n",
      "   1  NaN  5  8.0\n",
      "   2  NaN  6  9.0\n"
     ]
    }
   ],
   "source": [
    "a = pd.DataFrame({'A': [1, 2, 3], 'B': [4, 5, 6]})\n",
    "b = pd.DataFrame({'B': [4, 5, 6], 'C': [7, 8, 9]})\n",
    "\n",
    "print(pd.concat([a, b]))\n",
    "print()\n",
    "print(pd.concat([a, b], axis=1))\n",
    "print()\n",
    "print(pd.concat([a, b], join=\"inner\"))\n",
    "print()\n",
    "print(pd.concat([a, b], keys=[\"d1\", \"d2\"]))"
   ]
  },
  {
   "cell_type": "code",
   "execution_count": 27,
   "metadata": {},
   "outputs": [
    {
     "name": "stdout",
     "output_type": "stream",
     "text": [
      "   A  B    C     D\n",
      "0  1  4  7.0  10.0\n",
      "1  2  5  8.0  11.0\n",
      "2  3  6  NaN   NaN\n",
      "\n",
      "   A  B    C     D\n",
      "0  1  4  7.0  10.0\n",
      "1  2  5  8.0  11.0\n",
      "2  3  6  NaN   NaN\n",
      "\n",
      "   A  B  C   D\n",
      "0  1  4  7  10\n",
      "1  2  5  8  11\n",
      "\n",
      "   A  B    C     D\n",
      "0  1  4  7.0  10.0\n",
      "1  2  5  8.0  11.0\n",
      "2  3  6  NaN   NaN\n"
     ]
    }
   ],
   "source": [
    "a = pd.DataFrame({'A': [1, 2, 3], 'B': [4, 5, 6]})\n",
    "b = pd.DataFrame({'C': [7, 8], 'D': [10, 11]})\n",
    "\n",
    "print(a.join(b))\n",
    "print()\n",
    "print(a.join(b, how=\"left\"))\n",
    "print()\n",
    "print(a.join(b, how=\"inner\"))\n",
    "print()\n",
    "print(a.join(b, lsuffix=\"left\", rsuffix='right'))"
   ]
  },
  {
   "cell_type": "markdown",
   "metadata": {},
   "source": [
    "Missing Data"
   ]
  },
  {
   "cell_type": "code",
   "execution_count": 28,
   "metadata": {},
   "outputs": [
    {
     "name": "stdout",
     "output_type": "stream",
     "text": [
      "                   City Colors Reported Shape Reported State             Time\n",
      "0                Ithaca             NaN       TRIANGLE    NY   6/1/1930 22:00\n",
      "1           Willingboro             NaN          OTHER    NJ  6/30/1930 20:00\n",
      "2               Holyoke             NaN           OVAL    CO  2/15/1931 14:00\n",
      "3               Abilene             NaN           DISK    KS   6/1/1931 13:00\n",
      "4  New York Worlds Fair             NaN          LIGHT    NY  4/18/1933 19:00\n",
      "\n",
      "    City  Colors Reported  Shape Reported  State   Time\n",
      "0  False             True           False  False  False\n",
      "1  False             True           False  False  False\n",
      "2  False             True           False  False  False\n",
      "3  False             True           False  False  False\n",
      "4  False             True           False  False  False\n",
      "\n",
      "City                  26\n",
      "Colors Reported    15359\n",
      "Shape Reported      2644\n",
      "State                  0\n",
      "Time                   0\n",
      "dtype: int64\n"
     ]
    }
   ],
   "source": [
    "data = pd.read_csv(\"http://bit.ly/uforeports\")\n",
    "print(data.head())\n",
    "print()\n",
    "print(data.isnull().head())\n",
    "print()\n",
    "print(data.isnull().sum())"
   ]
  },
  {
   "cell_type": "code",
   "execution_count": 29,
   "metadata": {},
   "outputs": [
    {
     "name": "stdout",
     "output_type": "stream",
     "text": [
      "          City Colors Reported Shape Reported State             Time\n",
      "12      Belton             RED         SPHERE    SC  6/30/1939 20:00\n",
      "19  Bering Sea             RED          OTHER    AK  4/30/1943 23:00\n",
      "36  Portsmouth             RED      FORMATION    VA   7/10/1945 1:30\n",
      "\n",
      "          City Colors Reported Shape Reported State             Time\n",
      "0       Ithaca             NaN       TRIANGLE    NY   6/1/1930 22:00\n",
      "1  Willingboro             NaN          OTHER    NJ  6/30/1930 20:00\n",
      "2      Holyoke             NaN           OVAL    CO  2/15/1931 14:00\n",
      "\n",
      "          City Colors Reported Shape Reported State             Time\n",
      "0       Ithaca             NaN       TRIANGLE    NY   6/1/1930 22:00\n",
      "1  Willingboro             NaN          OTHER    NJ  6/30/1930 20:00\n",
      "2      Holyoke             NaN           OVAL    CO  2/15/1931 14:00\n",
      "\n",
      "          City Colors Reported Shape Reported State             Time\n",
      "0       Ithaca             NaN       TRIANGLE    NY   6/1/1930 22:00\n",
      "1  Willingboro             NaN          OTHER    NJ  6/30/1930 20:00\n",
      "2      Holyoke             NaN           OVAL    CO  2/15/1931 14:00\n"
     ]
    }
   ],
   "source": [
    "print(data.dropna().head(3))\n",
    "print()\n",
    "print(data.dropna(thresh=2).head(3))                                          # Atleast 2 missing values\n",
    "print()\n",
    "print(data.dropna(how=\"all\").head(3))                                         # All missing values\n",
    "print()\n",
    "print(data.dropna(subset=[\"City\"]).head(3))                                   # Specific col"
   ]
  },
  {
   "cell_type": "code",
   "execution_count": 30,
   "metadata": {},
   "outputs": [
    {
     "name": "stdout",
     "output_type": "stream",
     "text": [
      "          City Colors Reported Shape Reported State             Time\n",
      "0       Ithaca               0       TRIANGLE    NY   6/1/1930 22:00\n",
      "1  Willingboro               0          OTHER    NJ  6/30/1930 20:00\n",
      "2      Holyoke               0           OVAL    CO  2/15/1931 14:00\n",
      "\n",
      "          City Colors Reported Shape Reported State             Time\n",
      "0       Ithaca              NA       TRIANGLE    NY   6/1/1930 22:00\n",
      "1  Willingboro             NaN          OTHER    NJ  6/30/1930 20:00\n",
      "2      Holyoke             NaN           OVAL    CO  2/15/1931 14:00\n",
      "\n",
      "          City Colors Reported Shape Reported State             Time\n",
      "0       Ithaca             NaN       TRIANGLE    NY   6/1/1930 22:00\n",
      "1  Willingboro             NaN          OTHER    NJ  6/30/1930 20:00\n",
      "2      Holyoke             NaN           OVAL    CO  2/15/1931 14:00\n",
      "\n",
      "          City Colors Reported Shape Reported State             Time\n",
      "0       Ithaca             NaN       TRIANGLE    NY   6/1/1930 22:00\n",
      "1  Willingboro             NaN          OTHER    NJ  6/30/1930 20:00\n",
      "2      Holyoke             NaN           OVAL    CO  2/15/1931 14:00\n"
     ]
    }
   ],
   "source": [
    "print(data.fillna(0).head(3))                                                 # Fill missing values with 0\n",
    "print()\n",
    "print(data.fillna(\"NA\", limit=1).head(3))                                     # Fill with NA, but max 1 per row\n",
    "print()\n",
    "print(data.fillna({\"Colors\": \"Black\", \"City\": \"NA\"}).head(3))                 # Specific column values\n",
    "print()\n",
    "print(data.ffill().head(3))                                                   # Preceeding value [ bfill() for succeeding value ]"
   ]
  },
  {
   "cell_type": "code",
   "execution_count": 31,
   "metadata": {},
   "outputs": [
    {
     "ename": "KeyError",
     "evalue": "\"None of [Index(['star_rating', 'duration'], dtype='object')] are in the [columns]\"",
     "output_type": "error",
     "traceback": [
      "\u001b[1;31m---------------------------------------------------------------------------\u001b[0m",
      "\u001b[1;31mKeyError\u001b[0m                                  Traceback (most recent call last)",
      "Cell \u001b[1;32mIn[31], line 1\u001b[0m\n\u001b[1;32m----> 1\u001b[0m data[[\u001b[38;5;124m'\u001b[39m\u001b[38;5;124mstar_rating\u001b[39m\u001b[38;5;124m'\u001b[39m, \u001b[38;5;124m'\u001b[39m\u001b[38;5;124mduration\u001b[39m\u001b[38;5;124m'\u001b[39m]] \u001b[38;5;241m=\u001b[39m \u001b[43mdata\u001b[49m\u001b[43m[\u001b[49m\u001b[43m[\u001b[49m\u001b[38;5;124;43m'\u001b[39;49m\u001b[38;5;124;43mstar_rating\u001b[39;49m\u001b[38;5;124;43m'\u001b[39;49m\u001b[43m,\u001b[49m\u001b[43m \u001b[49m\u001b[38;5;124;43m'\u001b[39;49m\u001b[38;5;124;43mduration\u001b[39;49m\u001b[38;5;124;43m'\u001b[39;49m\u001b[43m]\u001b[49m\u001b[43m]\u001b[49m\u001b[38;5;241m.\u001b[39minterpolate()\n\u001b[0;32m      2\u001b[0m \u001b[38;5;28mprint\u001b[39m(data\u001b[38;5;241m.\u001b[39mhead())\n",
      "File \u001b[1;32mc:\\Users\\AviLOL\\AppData\\Local\\Programs\\Python\\Python311\\Lib\\site-packages\\pandas\\core\\frame.py:4096\u001b[0m, in \u001b[0;36mDataFrame.__getitem__\u001b[1;34m(self, key)\u001b[0m\n\u001b[0;32m   4094\u001b[0m     \u001b[38;5;28;01mif\u001b[39;00m is_iterator(key):\n\u001b[0;32m   4095\u001b[0m         key \u001b[38;5;241m=\u001b[39m \u001b[38;5;28mlist\u001b[39m(key)\n\u001b[1;32m-> 4096\u001b[0m     indexer \u001b[38;5;241m=\u001b[39m \u001b[38;5;28;43mself\u001b[39;49m\u001b[38;5;241;43m.\u001b[39;49m\u001b[43mcolumns\u001b[49m\u001b[38;5;241;43m.\u001b[39;49m\u001b[43m_get_indexer_strict\u001b[49m\u001b[43m(\u001b[49m\u001b[43mkey\u001b[49m\u001b[43m,\u001b[49m\u001b[43m \u001b[49m\u001b[38;5;124;43m\"\u001b[39;49m\u001b[38;5;124;43mcolumns\u001b[39;49m\u001b[38;5;124;43m\"\u001b[39;49m\u001b[43m)\u001b[49m[\u001b[38;5;241m1\u001b[39m]\n\u001b[0;32m   4098\u001b[0m \u001b[38;5;66;03m# take() does not accept boolean indexers\u001b[39;00m\n\u001b[0;32m   4099\u001b[0m \u001b[38;5;28;01mif\u001b[39;00m \u001b[38;5;28mgetattr\u001b[39m(indexer, \u001b[38;5;124m\"\u001b[39m\u001b[38;5;124mdtype\u001b[39m\u001b[38;5;124m\"\u001b[39m, \u001b[38;5;28;01mNone\u001b[39;00m) \u001b[38;5;241m==\u001b[39m \u001b[38;5;28mbool\u001b[39m:\n",
      "File \u001b[1;32mc:\\Users\\AviLOL\\AppData\\Local\\Programs\\Python\\Python311\\Lib\\site-packages\\pandas\\core\\indexes\\base.py:6200\u001b[0m, in \u001b[0;36mIndex._get_indexer_strict\u001b[1;34m(self, key, axis_name)\u001b[0m\n\u001b[0;32m   6197\u001b[0m \u001b[38;5;28;01melse\u001b[39;00m:\n\u001b[0;32m   6198\u001b[0m     keyarr, indexer, new_indexer \u001b[38;5;241m=\u001b[39m \u001b[38;5;28mself\u001b[39m\u001b[38;5;241m.\u001b[39m_reindex_non_unique(keyarr)\n\u001b[1;32m-> 6200\u001b[0m \u001b[38;5;28;43mself\u001b[39;49m\u001b[38;5;241;43m.\u001b[39;49m\u001b[43m_raise_if_missing\u001b[49m\u001b[43m(\u001b[49m\u001b[43mkeyarr\u001b[49m\u001b[43m,\u001b[49m\u001b[43m \u001b[49m\u001b[43mindexer\u001b[49m\u001b[43m,\u001b[49m\u001b[43m \u001b[49m\u001b[43maxis_name\u001b[49m\u001b[43m)\u001b[49m\n\u001b[0;32m   6202\u001b[0m keyarr \u001b[38;5;241m=\u001b[39m \u001b[38;5;28mself\u001b[39m\u001b[38;5;241m.\u001b[39mtake(indexer)\n\u001b[0;32m   6203\u001b[0m \u001b[38;5;28;01mif\u001b[39;00m \u001b[38;5;28misinstance\u001b[39m(key, Index):\n\u001b[0;32m   6204\u001b[0m     \u001b[38;5;66;03m# GH 42790 - Preserve name from an Index\u001b[39;00m\n",
      "File \u001b[1;32mc:\\Users\\AviLOL\\AppData\\Local\\Programs\\Python\\Python311\\Lib\\site-packages\\pandas\\core\\indexes\\base.py:6249\u001b[0m, in \u001b[0;36mIndex._raise_if_missing\u001b[1;34m(self, key, indexer, axis_name)\u001b[0m\n\u001b[0;32m   6247\u001b[0m \u001b[38;5;28;01mif\u001b[39;00m nmissing:\n\u001b[0;32m   6248\u001b[0m     \u001b[38;5;28;01mif\u001b[39;00m nmissing \u001b[38;5;241m==\u001b[39m \u001b[38;5;28mlen\u001b[39m(indexer):\n\u001b[1;32m-> 6249\u001b[0m         \u001b[38;5;28;01mraise\u001b[39;00m \u001b[38;5;167;01mKeyError\u001b[39;00m(\u001b[38;5;124mf\u001b[39m\u001b[38;5;124m\"\u001b[39m\u001b[38;5;124mNone of [\u001b[39m\u001b[38;5;132;01m{\u001b[39;00mkey\u001b[38;5;132;01m}\u001b[39;00m\u001b[38;5;124m] are in the [\u001b[39m\u001b[38;5;132;01m{\u001b[39;00maxis_name\u001b[38;5;132;01m}\u001b[39;00m\u001b[38;5;124m]\u001b[39m\u001b[38;5;124m\"\u001b[39m)\n\u001b[0;32m   6251\u001b[0m     not_found \u001b[38;5;241m=\u001b[39m \u001b[38;5;28mlist\u001b[39m(ensure_index(key)[missing_mask\u001b[38;5;241m.\u001b[39mnonzero()[\u001b[38;5;241m0\u001b[39m]]\u001b[38;5;241m.\u001b[39munique())\n\u001b[0;32m   6252\u001b[0m     \u001b[38;5;28;01mraise\u001b[39;00m \u001b[38;5;167;01mKeyError\u001b[39;00m(\u001b[38;5;124mf\u001b[39m\u001b[38;5;124m\"\u001b[39m\u001b[38;5;132;01m{\u001b[39;00mnot_found\u001b[38;5;132;01m}\u001b[39;00m\u001b[38;5;124m not in index\u001b[39m\u001b[38;5;124m\"\u001b[39m)\n",
      "\u001b[1;31mKeyError\u001b[0m: \"None of [Index(['star_rating', 'duration'], dtype='object')] are in the [columns]\""
     ]
    }
   ],
   "source": [
    "data[['star_rating', 'duration']] = data[['star_rating', 'duration']].interpolate()\n",
    "print(data.head())"
   ]
  },
  {
   "cell_type": "markdown",
   "metadata": {},
   "source": [
    "Grouping"
   ]
  },
  {
   "cell_type": "code",
   "execution_count": null,
   "metadata": {},
   "outputs": [
    {
     "name": "stdout",
     "output_type": "stream",
     "text": [
      "   star_rating                     title content_rating  genre  duration\n",
      "0          9.3  The Shawshank Redemption              R  Crime       142\n",
      "1          9.2             The Godfather              R  Crime       175\n",
      "2          9.1    The Godfather: Part II              R  Crime       200\n",
      "\n",
      "          star_rating                                               duration  \\\n",
      "                count      mean       std  min   25%  50%  75%  max    count   \n",
      "genre                                                                          \n",
      "Action          136.0  7.884559  0.333084  7.4  7.60  7.8  8.1  9.0    136.0   \n",
      "Adventure        75.0  7.933333  0.361802  7.4  7.65  7.9  8.1  8.9     75.0   \n",
      "Animation        62.0  7.914516  0.292444  7.4  7.70  7.9  8.1  8.6     62.0   \n",
      "Biography        77.0  7.862338  0.310364  7.4  7.60  7.8  8.1  8.9     77.0   \n",
      "Comedy          156.0  7.822436  0.304922  7.4  7.60  7.8  8.0  8.6    156.0   \n",
      "\n",
      "                                                                    \n",
      "                 mean        std   min    25%    50%    75%    max  \n",
      "genre                                                               \n",
      "Action     126.485294  21.982480  80.0  111.0  125.0  137.0  205.0  \n",
      "Adventure  134.840000  33.383942  89.0  109.0  127.0  151.5  224.0  \n",
      "Animation   96.596774  13.975927  75.0   87.0   94.5  102.0  134.0  \n",
      "Biography  131.844156  24.283991  85.0  116.0  127.0  146.0  202.0  \n",
      "Comedy     107.602564  20.101574  68.0   94.0  104.0  117.0  187.0  \n",
      "\n",
      "    star_rating                     title content_rating  genre  duration\n",
      "0           9.3  The Shawshank Redemption              R  Crime       142\n",
      "1           9.2             The Godfather              R  Crime       175\n",
      "2           9.1    The Godfather: Part II              R  Crime       200\n",
      "4           8.9              Pulp Fiction              R  Crime       154\n",
      "21          8.7               City of God              R  Crime       130\n"
     ]
    }
   ],
   "source": [
    "data = pd.read_csv(\"http://bit.ly/imdbratings\")\n",
    "data.drop(\"actors_list\", axis=1, inplace=True)\n",
    "print(data.head(3), end=\"\\n\\n\")\n",
    "\n",
    "grouped = data.groupby('genre')\n",
    "print(grouped.describe().head())\n",
    "print()\n",
    "\n",
    "print(grouped.get_group('Crime').head())"
   ]
  },
  {
   "cell_type": "markdown",
   "metadata": {},
   "source": [
    "Sorting and Filtering"
   ]
  },
  {
   "cell_type": "code",
   "execution_count": null,
   "metadata": {},
   "outputs": [
    {
     "name": "stdout",
     "output_type": "stream",
     "text": [
      "   star_rating                     title content_rating  genre  duration\n",
      "0          9.3  The Shawshank Redemption              R  Crime       142\n",
      "1          9.2             The Godfather              R  Crime       175\n",
      "2          9.1    The Godfather: Part II              R  Crime       200\n",
      "\n",
      "476    242\n",
      "157    238\n",
      "78     229\n",
      "Name: duration, dtype: int64\n",
      "\n",
      "     star_rating                title content_rating      genre  duration\n",
      "938          7.4  Alice in Wonderland              G  Animation        75\n",
      "948          7.4           Frances Ha              R     Comedy        86\n",
      "966          7.4   The Simpsons Movie          PG-13  Animation        87\n",
      "\n",
      "    star_rating                        title content_rating  genre  duration\n",
      "78          8.4  Once Upon a Time in America              R  Crime       229\n",
      "\n",
      "                              title  genre\n",
      "5                      12 Angry Men  Drama\n",
      "9                        Fight Club  Drama\n",
      "13                     Forrest Gump  Drama\n",
      "16  One Flew Over the Cuckoo's Nest  Drama\n",
      "17                    Seven Samurai  Drama\n"
     ]
    }
   ],
   "source": [
    "data = pd.read_csv(\"http://bit.ly/imdbratings\")\n",
    "data.drop(\"actors_list\", axis=1, inplace=True)\n",
    "print(data.head(3), end=\"\\n\\n\")\n",
    "\n",
    "print(data[\"duration\"].sort_values(ascending=False).head(3), end=\"\\n\\n\")\n",
    "print(data.sort_values(['star_rating', 'duration']).head(3), end=\"\\n\\n\")\n",
    "\n",
    "print(data[(data[\"duration\"] > 200) & (data[\"genre\"] == \"Crime\")])\n",
    "print()\n",
    "print(data.loc[data[\"genre\"].isin([\"Thriller\", \"Drama\"]), ['title', 'genre']].head())"
   ]
  },
  {
   "cell_type": "markdown",
   "metadata": {},
   "source": [
    "Melting and Pivot Tables"
   ]
  },
  {
   "cell_type": "code",
   "execution_count": null,
   "metadata": {},
   "outputs": [
    {
     "name": "stdout",
     "output_type": "stream",
     "text": [
      "   variable value\n",
      "0      Name  GuSe\n",
      "1      Name  YaMi\n",
      "2      Name  ViPa\n",
      "3      Name  YaMi\n",
      "4      Name  ViPa\n",
      "5       Age    19\n",
      "6       Age    15\n",
      "7       Age    18\n",
      "8       Age    19\n",
      "9       Age    18\n",
      "10     City    DL\n",
      "11     City    HY\n",
      "12     City    UP\n",
      "13     City    HY\n",
      "14     City    UP\n",
      "\n",
      "   Age field value\n",
      "0   19  Name  GuSe\n",
      "1   15  Name  YaMi\n",
      "2   18  Name  ViPa\n",
      "3   19  Name  YaMi\n",
      "4   18  Name  ViPa\n",
      "5   19  City    DL\n",
      "6   15  City    HY\n",
      "7   18  City    UP\n",
      "8   19  City    HY\n",
      "9   18  City    UP\n"
     ]
    }
   ],
   "source": [
    "data = pd.DataFrame({'Name': ['GuSe', 'YaMi', 'ViPa', 'YaMi', 'ViPa'],\n",
    "                     'Age': [19, 15, 18, 19, 18],\n",
    "                     'City': ['DL', 'HY', 'UP', 'HY', 'UP']})\n",
    "\n",
    "print(pd.melt(data))\n",
    "print()\n",
    "print(pd.melt(data, id_vars=[\"Age\"], var_name=\"field\"))"
   ]
  },
  {
   "cell_type": "code",
   "execution_count": null,
   "metadata": {},
   "outputs": [
    {
     "name": "stdout",
     "output_type": "stream",
     "text": [
      "      Name               Age            \n",
      "City    DL    HY    UP    DL    HY    UP\n",
      "0     GuSe   NaN   NaN  19.0   NaN   NaN\n",
      "1      NaN  YaMi   NaN   NaN  15.0   NaN\n",
      "2      NaN   NaN  ViPa   NaN   NaN  18.0\n",
      "3      NaN  YaMi   NaN   NaN  19.0   NaN\n",
      "4      NaN   NaN  ViPa   NaN   NaN  18.0\n",
      "\n",
      "City    DL    HY    UP\n",
      "0     GuSe   NaN   NaN\n",
      "1      NaN  YaMi   NaN\n",
      "2      NaN   NaN  ViPa\n",
      "3      NaN  YaMi   NaN\n",
      "4      NaN   NaN  ViPa\n",
      "\n",
      "       Age            \n",
      "City    DL    HY    UP\n",
      "Name                  \n",
      "GuSe  19.0   NaN   NaN\n",
      "ViPa   NaN   NaN  18.0\n",
      "YaMi   NaN  17.0   NaN\n"
     ]
    }
   ],
   "source": [
    "print(data.pivot(columns=\"City\"))\n",
    "print()\n",
    "print(data.pivot(columns=\"City\", values=\"Name\"))\n",
    "print()\n",
    "print(data.pivot_table(index=\"Name\", columns=\"City\", aggfunc=\"mean\"))"
   ]
  },
  {
   "cell_type": "markdown",
   "metadata": {},
   "source": [
    "DateTime Data Type"
   ]
  },
  {
   "cell_type": "code",
   "execution_count": null,
   "metadata": {},
   "outputs": [
    {
     "name": "stdout",
     "output_type": "stream",
     "text": [
      "                   City Colors Reported State             Time\n",
      "0                Ithaca             NaN    NY   6/1/1930 22:00\n",
      "1           Willingboro             NaN    NJ  6/30/1930 20:00\n",
      "2               Holyoke             NaN    CO  2/15/1931 14:00\n",
      "3               Abilene             NaN    KS   6/1/1931 13:00\n",
      "4  New York Worlds Fair             NaN    NY  4/18/1933 19:00\n",
      "\n",
      "                   City Colors Reported State                Time\n",
      "0                Ithaca             NaN    NY 1930-06-01 22:00:00\n",
      "1           Willingboro             NaN    NJ 1930-06-30 20:00:00\n",
      "2               Holyoke             NaN    CO 1931-02-15 14:00:00\n",
      "3               Abilene             NaN    KS 1931-06-01 13:00:00\n",
      "4  New York Worlds Fair             NaN    NY 1933-04-18 19:00:00\n",
      "\n",
      "                   City Colors Reported State                Time      Day\n",
      "0                Ithaca             NaN    NY 1930-06-01 22:00:00   Sunday\n",
      "1           Willingboro             NaN    NJ 1930-06-30 20:00:00   Monday\n",
      "2               Holyoke             NaN    CO 1931-02-15 14:00:00   Sunday\n",
      "3               Abilene             NaN    KS 1931-06-01 13:00:00   Monday\n",
      "4  New York Worlds Fair             NaN    NY 1933-04-18 19:00:00  Tuesday\n",
      "\n",
      "25781 days 01:59:00\n",
      "                City Colors Reported State                Time     Day\n",
      "16219        Menifee    ORANGE GREEN    CA 2000-04-09 01:10:00  Sunday\n",
      "16220      Oceanside           GREEN    CA 2000-04-09 01:10:00  Sunday\n",
      "16221  Newport Coast             NaN    CA 2000-04-09 01:11:00  Sunday\n",
      "16222  Santa Barbara           GREEN    CA 2000-04-09 01:11:00  Sunday\n",
      "16223       Richmond             NaN    IN 2000-04-09 01:30:00  Sunday\n"
     ]
    }
   ],
   "source": [
    "data = pd.read_table(\"http://bit.ly/uforeports\", sep=\",\")\n",
    "data.drop(\"Shape Reported\", axis=1, inplace=True)\n",
    "print(data.head(), end=\"\\n\\n\")\n",
    "\n",
    "data[\"Time\"] = pd.to_datetime(data[\"Time\"])\n",
    "print(data.head(), end=\"\\n\\n\")\n",
    "\n",
    "data[\"Day\"] = data[\"Time\"].dt.day_name()\n",
    "print(data.head(), end=\"\\n\\n\")\n",
    "\n",
    "print(data[\"Time\"].max() - data[\"Time\"].min())\n",
    "\n",
    "tmp = pd.to_datetime(\"2000/04/09\")\n",
    "print(data.loc[data[\"Time\"] > tmp].head())"
   ]
  },
  {
   "cell_type": "markdown",
   "metadata": {},
   "source": [
    "Categories\n",
    "[ Setting a string column with limited number of unique values as categories in a dataframe\n",
    "not only saves memory but also speeds up operations. In fact, they also allow to provide\n",
    "heirarchical ordering to the data, thus allowing to perform operations like comparison ]"
   ]
  },
  {
   "cell_type": "code",
   "execution_count": null,
   "metadata": {},
   "outputs": [
    {
     "name": "stdout",
     "output_type": "stream",
     "text": [
      "  ID     rating\n",
      "2  C    average\n",
      "1  B        bad\n",
      "4  E  excellent\n",
      "0  A       good\n",
      "3  D       good\n",
      "\n",
      "  ID     rating\n",
      "1  B        bad\n",
      "2  C    average\n",
      "0  A       good\n",
      "3  D       good\n",
      "4  E  excellent\n",
      "\n",
      "  ID     rating\n",
      "0  A       good\n",
      "3  D       good\n",
      "4  E  excellent\n"
     ]
    }
   ],
   "source": [
    "data = pd.DataFrame({\"ID\": ['A', 'B', 'C', 'D', 'E'], \"rating\": [\"good\", \"bad\", \"average\", \"good\", \"excellent\"]})\n",
    "print(data.sort_values(\"rating\"))\n",
    "print()\n",
    "\n",
    "data[\"rating\"] = pd.Categorical(data[\"rating\"], categories=[\"bad\", \"average\", \"good\", \"excellent\"], ordered=True)\n",
    "print(data.sort_values(\"rating\"))\n",
    "print()\n",
    "\n",
    "print(data[data[\"rating\"] > \"average\"])"
   ]
  },
  {
   "cell_type": "markdown",
   "metadata": {},
   "source": [
    "Map and Apply"
   ]
  },
  {
   "cell_type": "code",
   "execution_count": null,
   "metadata": {},
   "outputs": [
    {
     "name": "stdout",
     "output_type": "stream",
     "text": [
      "             Survived  Pclass     Sex   Age  Parch     Fare Cabin\n",
      "PassengerId                                                      \n",
      "1                   0       3    male  22.0      0   7.2500   NaN\n",
      "2                   1       1  female  38.0      0  71.2833   C85\n",
      "3                   1       3  female  26.0      0   7.9250   NaN\n",
      "4                   1       1  female  35.0      0  53.1000  C123\n",
      "5                   0       3    male  35.0      0   8.0500   NaN\n",
      "\n",
      "             Survived  Pclass  Sex   Age  Parch     Fare Cabin\n",
      "PassengerId                                                   \n",
      "1                   0       3    1  22.0      0   7.2500   NaN\n",
      "2                   1       1    0  38.0      0  71.2833   C85\n",
      "3                   1       3    0  26.0      0   7.9250   NaN\n",
      "4                   1       1    0  35.0      0  53.1000  C123\n",
      "5                   0       3    1  35.0      0   8.0500   NaN\n",
      "\n",
      "             Survived  Pclass  Sex   Age  Parch     Fare Cabin  RoundedFare\n",
      "PassengerId                                                                \n",
      "1                   0       3    1  22.0      0   7.2500   NaN            7\n",
      "2                   1       1    0  38.0      0  71.2833   C85           71\n",
      "3                   1       3    0  26.0      0   7.9250   NaN            8\n",
      "4                   1       1    0  35.0      0  53.1000  C123           53\n",
      "5                   0       3    1  35.0      0   8.0500   NaN            8\n",
      "\n"
     ]
    }
   ],
   "source": [
    "data = pd.read_csv(\"http://bit.ly/kaggletrain\", index_col=\"PassengerId\")\n",
    "data.drop([\"Name\", \"Ticket\", \"Embarked\", \"SibSp\"], axis=1, inplace=True)\n",
    "print(data.head(), end=\"\\n\\n\")\n",
    "\n",
    "data[\"Sex\"] = data[\"Sex\"].map({'female': 0, 'male': 1})\n",
    "print(data.head(), end=\"\\n\\n\")\n",
    "\n",
    "data[\"RoundedFare\"] = data[\"Fare\"].apply(round)\n",
    "print(data.head(), end=\"\\n\\n\")\n"
   ]
  },
  {
   "cell_type": "markdown",
   "metadata": {},
   "source": [
    "Multi-indexing [ Representing Data in a heirarchical manner. Similar to adding an extra dimension ]"
   ]
  },
  {
   "cell_type": "code",
   "execution_count": null,
   "metadata": {},
   "outputs": [
    {
     "name": "stdout",
     "output_type": "stream",
     "text": [
      "         Date   Close    Volume Symbol\n",
      "0  2016-10-03   31.50  14070500   CSCO\n",
      "1  2016-10-03  112.52  21701800   AAPL\n",
      "2  2016-10-03   57.42  19189500   MSFT\n",
      "3  2016-10-04  113.00  29736800   AAPL\n",
      "4  2016-10-04   57.24  20085900   MSFT\n",
      "5  2016-10-04   31.35  18460400   CSCO\n",
      "6  2016-10-05   57.64  16726400   MSFT\n",
      "7  2016-10-05   31.59  11808600   CSCO\n",
      "8  2016-10-05  113.05  21453100   AAPL\n",
      "\n",
      "Symbol  Date      \n",
      "AAPL    2016-10-03    112.52\n",
      "        2016-10-04    113.00\n",
      "        2016-10-05    113.05\n",
      "CSCO    2016-10-03     31.50\n",
      "        2016-10-04     31.35\n",
      "        2016-10-05     31.59\n",
      "MSFT    2016-10-03     57.42\n",
      "        2016-10-04     57.24\n",
      "        2016-10-05     57.64\n",
      "Name: Close, dtype: float64\n",
      "\n",
      "Date    2016-10-03  2016-10-04  2016-10-05\n",
      "Symbol                                    \n",
      "AAPL        112.52      113.00      113.05\n",
      "CSCO         31.50       31.35       31.59\n",
      "MSFT         57.42       57.24       57.64\n",
      "\n"
     ]
    }
   ],
   "source": [
    "data = pd.read_csv(\"http://bit.ly/smallstocks\")\n",
    "print(data, end=\"\\n\\n\")\n",
    "\n",
    "ser = data.groupby([\"Symbol\", \"Date\"]).Close.mean()\n",
    "print(ser, end=\"\\n\\n\")\n",
    "print(ser.unstack(), end=\"\\n\\n\")"
   ]
  },
  {
   "cell_type": "code",
   "execution_count": null,
   "metadata": {},
   "outputs": [
    {
     "name": "stdout",
     "output_type": "stream",
     "text": [
      "Date    2016-10-03  2016-10-04  2016-10-05\n",
      "Symbol                                    \n",
      "AAPL        112.52      113.00      113.05\n",
      "CSCO         31.50       31.35       31.59\n",
      "MSFT         57.42       57.24       57.64\n",
      "\n",
      "                    Close    Volume\n",
      "Symbol Date                        \n",
      "AAPL   2016-10-03  112.52  21701800\n",
      "       2016-10-04  113.00  29736800\n",
      "       2016-10-05  113.05  21453100\n",
      "CSCO   2016-10-03   31.50  14070500\n",
      "       2016-10-04   31.35  18460400\n",
      "       2016-10-05   31.59  11808600\n",
      "MSFT   2016-10-03   57.42  19189500\n",
      "       2016-10-04   57.24  20085900\n",
      "       2016-10-05   57.64  16726400\n",
      "\n",
      "113.05\n"
     ]
    }
   ],
   "source": [
    "print(data.pivot_table(values=\"Close\", index=\"Symbol\", columns=\"Date\"))          # Equivalent to the above operations\n",
    "print()\n",
    "\n",
    "df = data.set_index([\"Symbol\", \"Date\"])\n",
    "print(df.sort_index(), end=\"\\n\\n\")\n",
    "print(df.loc[(\"AAPL\", \"2016-10-05\"), \"Close\"])"
   ]
  },
  {
   "cell_type": "markdown",
   "metadata": {},
   "source": [
    "Memory Usage"
   ]
  },
  {
   "cell_type": "code",
   "execution_count": 37,
   "metadata": {},
   "outputs": [
    {
     "name": "stdout",
     "output_type": "stream",
     "text": [
      "         Date   Close    Volume Symbol\n",
      "0  2016-10-03   31.50  14070500   CSCO\n",
      "1  2016-10-03  112.52  21701800   AAPL\n",
      "\n",
      "<class 'pandas.core.frame.DataFrame'>\n",
      "RangeIndex: 9 entries, 0 to 8\n",
      "Data columns (total 4 columns):\n",
      " #   Column  Non-Null Count  Dtype  \n",
      "---  ------  --------------  -----  \n",
      " 0   Date    9 non-null      object \n",
      " 1   Close   9 non-null      float64\n",
      " 2   Volume  9 non-null      int64  \n",
      " 3   Symbol  9 non-null      object \n",
      "dtypes: float64(1), int64(1), object(2)\n",
      "memory usage: 420.0+ bytes\n",
      "None\n",
      "\n",
      "<class 'pandas.core.frame.DataFrame'>\n",
      "RangeIndex: 9 entries, 0 to 8\n",
      "Data columns (total 4 columns):\n",
      " #   Column  Non-Null Count  Dtype  \n",
      "---  ------  --------------  -----  \n",
      " 0   Date    9 non-null      object \n",
      " 1   Close   9 non-null      float64\n",
      " 2   Volume  9 non-null      int64  \n",
      " 3   Symbol  9 non-null      object \n",
      "dtypes: float64(1), int64(1), object(2)\n",
      "memory usage: 1.4 KB\n",
      "None\n"
     ]
    }
   ],
   "source": [
    "data = pd.read_csv(\"http://bit.ly/smallstocks\")\n",
    "print(data.head(2), end=\"\\n\\n\")\n",
    "\n",
    "print(data.info(), end=\"\\n\\n\")\n",
    "print(data.info(memory_usage=\"deep\"))                                           # True memory usage (counting )"
   ]
  },
  {
   "cell_type": "code",
   "execution_count": 40,
   "metadata": {},
   "outputs": [
    {
     "name": "stdout",
     "output_type": "stream",
     "text": [
      "Index     132\n",
      "Date       72\n",
      "Close      72\n",
      "Volume     72\n",
      "Symbol     72\n",
      "dtype: int64\n",
      "\n",
      "Index     132\n",
      "Date      603\n",
      "Close      72\n",
      "Volume     72\n",
      "Symbol    549\n",
      "dtype: int64\n"
     ]
    }
   ],
   "source": [
    "print(data.memory_usage(), end=\"\\n\\n\")\n",
    "print(data.memory_usage(deep=True))"
   ]
  }
 ],
 "metadata": {
  "kernelspec": {
   "display_name": "Python 3",
   "language": "python",
   "name": "python3"
  },
  "language_info": {
   "codemirror_mode": {
    "name": "ipython",
    "version": 3
   },
   "file_extension": ".py",
   "mimetype": "text/x-python",
   "name": "python",
   "nbconvert_exporter": "python",
   "pygments_lexer": "ipython3",
   "version": "3.11.4"
  }
 },
 "nbformat": 4,
 "nbformat_minor": 2
}
