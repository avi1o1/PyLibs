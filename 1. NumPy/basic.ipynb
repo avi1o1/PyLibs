{
 "cells": [
  {
   "cell_type": "markdown",
   "metadata": {},
   "source": [
    "# **NumPy**\n",
    "### n-D Array Object Library and other numerical computing tools\n",
    "- High-performance multidimensional array object and associated tools.\n",
    "- Fundamental package for scientific computing, allowing various mathematical computations and operations.\n",
    "- Forms a basis (or assissting library) for various other third-party libraries like MatPlotLib, Pandas, etc.\n",
    "<hr>"
   ]
  },
  {
   "cell_type": "markdown",
   "metadata": {},
   "source": [
    "Importing Library"
   ]
  },
  {
   "cell_type": "code",
   "execution_count": 13,
   "metadata": {},
   "outputs": [],
   "source": [
    "import numpy as np"
   ]
  },
  {
   "cell_type": "markdown",
   "metadata": {},
   "source": [
    "Initialising Numpy Arrays"
   ]
  },
  {
   "cell_type": "code",
   "execution_count": 14,
   "metadata": {},
   "outputs": [
    {
     "name": "stdout",
     "output_type": "stream",
     "text": [
      "[1 3 5 7 9]\n",
      "[1. 3. 5. 7. 9.]\n",
      "[1 2 5 6 5]\n"
     ]
    }
   ],
   "source": [
    "print(np.arange(1, 10, 2))                                # start, end, step\n",
    "print(np.linspace(1, 9, 5))                               # start, end, number of elements\n",
    "print(np.random.randint(1, 9, 5))                         # Generates random elements [ may use rand, randn, randf ]"
   ]
  },
  {
   "cell_type": "markdown",
   "metadata": {},
   "source": [
    "Special Arrays"
   ]
  },
  {
   "cell_type": "code",
   "execution_count": 15,
   "metadata": {},
   "outputs": [
    {
     "name": "stdout",
     "output_type": "stream",
     "text": [
      "[[0. 0. 0.]]\n",
      "[[1. 1. 1. 1. 1.]]\n",
      "[[6.9 6.9 6.9 6.9 6.9 6.9 6.9]]\n",
      "[[16.  9.  4.  1.  0.  1.  4.  9. 16.]]\n",
      "[[1. 0. 0. 0.]\n",
      " [0. 1. 0. 0.]\n",
      " [0. 0. 1. 0.]]\n",
      "[[1. 0. 0.]\n",
      " [0. 1. 0.]\n",
      " [0. 0. 1.]]\n"
     ]
    }
   ],
   "source": [
    "print(np.zeros((1, 3)))\n",
    "print(np.ones((1, 5)))\n",
    "print(np.full((1, 7), 6.9))\n",
    "print(np.empty((1, 9)))\n",
    "print(np.eye(3, 4))\n",
    "print(np.identity(3))"
   ]
  },
  {
   "cell_type": "markdown",
   "metadata": {},
   "source": [
    "Basic Properties"
   ]
  },
  {
   "cell_type": "code",
   "execution_count": 16,
   "metadata": {},
   "outputs": [
    {
     "name": "stdout",
     "output_type": "stream",
     "text": [
      "[[7 2 1 1 4]\n",
      " [1 0 1 1 4]]\n",
      "Dimension of the array : 2\n",
      "Shape of the array : (2, 5)\n",
      "Array elements type : int32\n",
      "Number of the elements : 10\n",
      "Size of each element : 4\n",
      "Total bytes consumed : 40\n"
     ]
    }
   ],
   "source": [
    "arr = np.array([[7, 2, 1, 1, 4], [1, 0, 1, 1, 4]])\n",
    "print(arr)\n",
    "\n",
    "print(\"Dimension of the array :\", arr.ndim)\n",
    "print(\"Shape of the array :\", arr.shape)\n",
    "print(\"Array elements type :\", arr.dtype)\n",
    "print(\"Number of the elements :\", arr.size)\n",
    "print(\"Size of each element :\", arr.itemsize)\n",
    "print(\"Total bytes consumed :\", arr.nbytes)"
   ]
  },
  {
   "cell_type": "markdown",
   "metadata": {},
   "source": [
    "Indexing and Slicing [ Similar to in-built lists ]"
   ]
  },
  {
   "cell_type": "code",
   "execution_count": 17,
   "metadata": {},
   "outputs": [
    {
     "name": "stdout",
     "output_type": "stream",
     "text": [
      "[[[ 1  2  3]\n",
      "  [ 4  5  6]]\n",
      "\n",
      " [[ 7  8  9]\n",
      "  [10 11 12]]]\n",
      "6\n",
      "6\n",
      "[1 3]\n",
      "[1 3]\n"
     ]
    }
   ],
   "source": [
    "arr = np.array([[[1, 2, 3], [4, 5, 6]], [[7, 8, 9], [10, 11, 12]]])\n",
    "print(arr)\n",
    "\n",
    "print(arr[0][-1][2])\n",
    "print(arr[0, -1, 2])\n",
    "\n",
    "print(arr[0][0][-3::2])\n",
    "print(arr[0, 0, -3::2])"
   ]
  },
  {
   "cell_type": "markdown",
   "metadata": {},
   "source": [
    "Arithmetic Operations"
   ]
  },
  {
   "cell_type": "code",
   "execution_count": 18,
   "metadata": {},
   "outputs": [
    {
     "name": "stdout",
     "output_type": "stream",
     "text": [
      "[[4 5 6]\n",
      " [7 8 9]]\n",
      "[[10 10 10]\n",
      " [10 10 10]]\n",
      "[[10 10 10]\n",
      " [10 10 10]]\n"
     ]
    }
   ],
   "source": [
    "a = np.array([[1, 2, 3], [4, 5, 6]])\n",
    "b = np.array([[9, 8, 7], [6, 5, 4]])\n",
    "c = 3\n",
    "\n",
    "print(a + c)                                            # Similarly for -, *, /, %, **, //\n",
    "print(a + b)\n",
    "print(np.add(a, b))"
   ]
  },
  {
   "cell_type": "markdown",
   "metadata": {},
   "source": [
    "Broadcasting : Technique for performing operations between different-sized matrices\n",
    "[ Condition : Same dimension, or 1 for one of the array ]"
   ]
  },
  {
   "cell_type": "code",
   "execution_count": 19,
   "metadata": {},
   "outputs": [
    {
     "name": "stdout",
     "output_type": "stream",
     "text": [
      "[[1]\n",
      " [2]]\n",
      "[[3 4 5]\n",
      " [6 7 8]]\n",
      "[[ 4  5  6]\n",
      " [ 8  9 10]]\n"
     ]
    }
   ],
   "source": [
    "a = np.array([[1], [2]])\n",
    "b = np.array([[3, 4, 5], [6, 7, 8]])\n",
    "print(a)\n",
    "print(b)\n",
    "print(a+b)"
   ]
  },
  {
   "cell_type": "code",
   "execution_count": 20,
   "metadata": {},
   "outputs": [
    {
     "name": "stdout",
     "output_type": "stream",
     "text": [
      "[[1]\n",
      " [0]]\n",
      "[[1.73205081 2.         2.23606798]\n",
      " [2.44948974 2.64575131 2.82842712]]\n",
      "[[0.84147098]\n",
      " [0.90929743]]\n",
      "[[-0.9899925  -0.65364362  0.28366219]\n",
      " [ 0.96017029  0.75390225 -0.14550003]]\n",
      "[[0.        ]\n",
      " [0.69314718]]\n",
      "[ 3  7 12 18 25 33]\n"
     ]
    }
   ],
   "source": [
    "print(np.reciprocal(a))\n",
    "print(np.sqrt(b))\n",
    "print(np.sin(a))\n",
    "print(np.cos(b))\n",
    "print(np.log(a))\n",
    "print(np.cumsum(b))"
   ]
  },
  {
   "cell_type": "code",
   "execution_count": 21,
   "metadata": {},
   "outputs": [
    {
     "name": "stdout",
     "output_type": "stream",
     "text": [
      "Minimum value of 1 at index 0.\n",
      "Maximum value of 2 at index 1.\n",
      "Minimum value of [3 6] at index [0 0].\n",
      "Maximum value of [6 7 8] at index [1 1 1].\n"
     ]
    }
   ],
   "source": [
    "print(f\"Minimum value of {np.min(a)} at index {np.argmin(a)}.\")\n",
    "print(f\"Maximum value of {np.max(a)} at index {np.argmax(a)}.\")\n",
    "\n",
    "print(f\"Minimum value of {np.min(b, axis=1)} at index {np.argmin(b, axis=1)}.\")\n",
    "print(f\"Maximum value of {np.max(b, axis=0)} at index {np.argmax(b, axis=0)}.\")"
   ]
  },
  {
   "cell_type": "markdown",
   "metadata": {},
   "source": [
    "Statistics"
   ]
  },
  {
   "cell_type": "code",
   "execution_count": 22,
   "metadata": {},
   "outputs": [
    {
     "name": "stdout",
     "output_type": "stream",
     "text": [
      "Minimum in the array : 1\n",
      "Maximum along the axes : [3 6 9]\n",
      "Mean of data : 5.0\n",
      "Median of data : 5.0\n",
      "Variance of data : 6.666666666666667\n",
      "Std. Dev. of data : 2.581988897471611\n",
      "50th Percentile of data : 5.0\n",
      "75th Percentile along axes : [7 8 9]\n"
     ]
    }
   ],
   "source": [
    "data = np.array([[1, 2, 3], [4, 5, 6], [7, 8, 9]])\n",
    "print(\"Minimum in the array :\", np.min(data))\n",
    "print(\"Maximum along the axes :\", np.max(data, axis=1))\n",
    "print(\"Mean of data :\", np.mean(data))\n",
    "print(\"Median of data :\", np.median(data))\n",
    "print(\"Variance of data :\", np.var(data))\n",
    "print(\"Std. Dev. of data :\", np.std(data))\n",
    "print(\"50th Percentile of data :\", np.percentile(data, 50))\n",
    "print(\"75th Percentile along axes :\", np.percentile(data, 75, axis=0, interpolation='nearest'))"
   ]
  },
  {
   "cell_type": "markdown",
   "metadata": {},
   "source": [
    "Copy vs View"
   ]
  },
  {
   "cell_type": "code",
   "execution_count": 23,
   "metadata": {},
   "outputs": [
    {
     "name": "stdout",
     "output_type": "stream",
     "text": [
      "Original : [1 2 3] \n",
      "Copy \t : [1 2 3] \n",
      "View \t : [1 2 3]\n",
      "\n",
      "Original : [1 2 3] \n",
      "Copy \t : [69  2  3]\n",
      "\n",
      "Original : [69  2  3] \n",
      "View \t : [69  2  3]\n"
     ]
    }
   ],
   "source": [
    "arr = np.array([1, 2, 3])\n",
    "\n",
    "c = arr.copy()\n",
    "v = arr.view()\n",
    "print('Original :', arr, '\\nCopy \\t :', c, '\\nView \\t :', v) \n",
    "\n",
    "c[0] = 69\n",
    "print('\\nOriginal :', arr, '\\nCopy \\t :', c)\n",
    "\n",
    "v[0] = 69\n",
    "print('\\nOriginal :', arr, '\\nView \\t :', v)"
   ]
  },
  {
   "cell_type": "markdown",
   "metadata": {},
   "source": [
    "Reading from External File"
   ]
  },
  {
   "cell_type": "code",
   "execution_count": 24,
   "metadata": {},
   "outputs": [
    {
     "name": "stdout",
     "output_type": "stream",
     "text": [
      "[[7. 2. 1. 1. 4. 1. 0. 1. 1. 4.]\n",
      " [0. 1. 2. 3. 4. 5. 6. 7. 8. 9.]]\n"
     ]
    }
   ],
   "source": [
    "print(np.genfromtxt('Data/data.txt', delimiter=','))"
   ]
  }
 ],
 "metadata": {
  "kernelspec": {
   "display_name": "Python 3",
   "language": "python",
   "name": "python3"
  },
  "language_info": {
   "codemirror_mode": {
    "name": "ipython",
    "version": 3
   },
   "file_extension": ".py",
   "mimetype": "text/x-python",
   "name": "python",
   "nbconvert_exporter": "python",
   "pygments_lexer": "ipython3",
   "version": "3.12.4"
  }
 },
 "nbformat": 4,
 "nbformat_minor": 2
}
