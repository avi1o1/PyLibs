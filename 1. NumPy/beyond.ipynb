{
 "cells": [
  {
   "cell_type": "code",
   "execution_count": 1,
   "metadata": {},
   "outputs": [],
   "source": [
    "import numpy as np"
   ]
  },
  {
   "cell_type": "markdown",
   "metadata": {},
   "source": [
    "Reshape and Resize"
   ]
  },
  {
   "cell_type": "code",
   "execution_count": 2,
   "metadata": {},
   "outputs": [
    {
     "name": "stdout",
     "output_type": "stream",
     "text": [
      "[[7 2 1 1 4]\n",
      " [1 0 1 1 4]]\n",
      "[[7 2]\n",
      " [1 1]\n",
      " [4 1]\n",
      " [0 1]\n",
      " [1 4]]\n",
      "[7 2 1 1 4 1 0 1 1 4]\n",
      "[[7 2 1 1 4 1 0 1 1 4]\n",
      " [7 2 1 1 4 1 0 1 1 4]]\n"
     ]
    }
   ],
   "source": [
    "arr = np.array([[7, 2, 1, 1, 4], [1, 0, 1, 1, 4]])\n",
    "print(arr)\n",
    "\n",
    "print(arr.reshape(5, 2))                                    # Size must match\n",
    "print(arr.reshape(-1))                                      # Converting to a 1D array\n",
    "\n",
    "print(np.resize(arr, (2, 10)))                              # Incompatible size doesn't matter"
   ]
  },
  {
   "cell_type": "markdown",
   "metadata": {},
   "source": [
    "Row / Column Manipulation"
   ]
  },
  {
   "cell_type": "code",
   "execution_count": 3,
   "metadata": {},
   "outputs": [
    {
     "name": "stdout",
     "output_type": "stream",
     "text": [
      "[[9 8]\n",
      " [5 4]]\n",
      "[[9 8]\n",
      " [5 4]\n",
      " [1 0]]\n",
      "[[ 9  8  7]\n",
      " [ 5  4  3]\n",
      " [ 1  0 -1]]\n",
      "[[9 8 7]\n",
      " [5 4 3]]\n"
     ]
    }
   ],
   "source": [
    "arr = np.array([[9, 8], [5, 4]])\n",
    "print(arr)\n",
    "\n",
    "arr = np.append(arr, [[1, 0]], axis=0)\n",
    "print(arr)\n",
    "arr = np.insert(arr, 2, [7, 3, -1], axis=1)\n",
    "print(arr)\n",
    "\n",
    "arr = np.delete(arr, -1, axis=0)\n",
    "print(arr)"
   ]
  },
  {
   "cell_type": "markdown",
   "metadata": {},
   "source": [
    "Concat and Stack"
   ]
  },
  {
   "cell_type": "code",
   "execution_count": 4,
   "metadata": {},
   "outputs": [
    {
     "name": "stdout",
     "output_type": "stream",
     "text": [
      "[[1 2]\n",
      " [3 4]\n",
      " [5 6]\n",
      " [7 8]]\n",
      "[[[1 2]\n",
      "  [5 6]]\n",
      "\n",
      " [[3 4]\n",
      "  [7 8]]]\n",
      "[[1 2 5 6]\n",
      " [3 4 7 8]]\n",
      "[[1 2]\n",
      " [3 4]\n",
      " [5 6]\n",
      " [7 8]]\n",
      "[[[1 5]\n",
      "  [2 6]]\n",
      "\n",
      " [[3 7]\n",
      "  [4 8]]]\n",
      "[array([[1],\n",
      "       [3]]), array([[2],\n",
      "       [4]]), array([], shape=(2, 0), dtype=int32)]\n"
     ]
    }
   ],
   "source": [
    "a = np.array([[1, 2], [3, 4]])\n",
    "b = np.array([[5, 6], [7, 8]])\n",
    "\n",
    "print(np.concatenate((a, b), axis=0))\n",
    "print(np.stack((a, b), axis=1))\n",
    "\n",
    "print(np.hstack((a, b)))                                  # along row\n",
    "print(np.vstack((a, b)))                                  # along column\n",
    "print(np.dstack((a, b)))                                  # along height\n",
    "\n",
    "print(np.array_split(a, 3, axis=1))"
   ]
  },
  {
   "cell_type": "markdown",
   "metadata": {},
   "source": [
    "Sort and Search"
   ]
  },
  {
   "cell_type": "code",
   "execution_count": 5,
   "metadata": {},
   "outputs": [
    {
     "name": "stdout",
     "output_type": "stream",
     "text": [
      "[0 1 1 1 1 1 2 4 4 7]\n",
      "6\n",
      "[ 9 10]\n"
     ]
    }
   ],
   "source": [
    "arr = np.array([7, 2, 1, 1, 4, 1, 0, 1, 1, 4])\n",
    "\n",
    "arr = np.sort(arr)\n",
    "print(arr)\n",
    "\n",
    "print(np.searchsorted(arr, 2))\n",
    "print(np.searchsorted(arr, [6, 9]))"
   ]
  },
  {
   "cell_type": "markdown",
   "metadata": {},
   "source": [
    "Filtering"
   ]
  },
  {
   "cell_type": "code",
   "execution_count": 6,
   "metadata": {},
   "outputs": [
    {
     "name": "stdout",
     "output_type": "stream",
     "text": [
      "[7 1 4 0 1]\n",
      "[2 4 0 4]\n",
      "[7 4 4]\n",
      "[False False False False  True False False False False  True]\n",
      "[2 4 0 4]\n",
      "False\n",
      "(array([0, 2, 3, 5, 7, 8], dtype=int64),)\n"
     ]
    }
   ],
   "source": [
    "arr = np.array([7, 2, 1, 1, 4, 1, 0, 1, 1, 4])\n",
    "\n",
    "f = [True, False, True, False, True, False, True, False, True, False]\n",
    "print(arr[f])\n",
    "\n",
    "print(arr[arr%2 == 0])\n",
    "print(arr[arr > 3])\n",
    "print((arr > 3) & (arr < 7))\n",
    "\n",
    "print(np.extract(arr%2 == 0, arr))\n",
    "print(np.all(arr%2, axis=0))                              # np.any() \n",
    "\n",
    "print(np.where((arr%2) == 1))"
   ]
  },
  {
   "cell_type": "markdown",
   "metadata": {},
   "source": [
    "Matrices [ as Special Arrays ]"
   ]
  },
  {
   "cell_type": "code",
   "execution_count": 7,
   "metadata": {},
   "outputs": [
    {
     "name": "stdout",
     "output_type": "stream",
     "text": [
      "[[1 2 3 4 5 6 7 8 9]]\n",
      "[1 2 3 4 5 6 7 8 9]\n",
      "[[ 4  8 12]\n",
      " [14 28 42]\n",
      " [11 22 33]]\n"
     ]
    }
   ],
   "source": [
    "a = np.matrix('1 2 3 4 5 6 7 8 9')\n",
    "b = np.array([1, 2, 3, 4, 5, 6, 7, 8, 9])\n",
    "print(a)\n",
    "print(b)\n",
    "\n",
    "c = np.matrix([[0, 2, 2], [9, 4, 1], [5, 1, 5]])\n",
    "d = np.matrix('1 2 3; 1 2 3; 1 2 3')\n",
    "print(c @ d)                                              # (Vector) Matrix multiplication"
   ]
  },
  {
   "cell_type": "markdown",
   "metadata": {},
   "source": [
    "Linear Algebra"
   ]
  },
  {
   "cell_type": "code",
   "execution_count": 8,
   "metadata": {},
   "outputs": [
    {
     "name": "stdout",
     "output_type": "stream",
     "text": [
      "-102.00000000000004\n",
      "[[-0.18627451  0.07843137  0.05882353]\n",
      " [ 0.39215686  0.09803922 -0.17647059]\n",
      " [ 0.10784314 -0.09803922  0.17647059]]\n",
      "[[0 2 2]\n",
      " [9 4 1]\n",
      " [5 1 5]]\n",
      "[[1 0 0]\n",
      " [0 1 0]\n",
      " [0 0 1]]\n",
      "[[-0.18627451  0.07843137  0.05882353]\n",
      " [ 0.39215686  0.09803922 -0.17647059]\n",
      " [ 0.10784314 -0.09803922  0.17647059]]\n"
     ]
    }
   ],
   "source": [
    "mat = np.matrix([[0, 2, 2], [9, 4, 1], [5, 1, 5]])\n",
    "\n",
    "print(np.linalg.det(mat))                                   # Determinant of a matrix\n",
    "print(np.linalg.inv(mat))                                   # Inverse of a matrix\n",
    "print(np.linalg.matrix_power(mat, 1))                       # Power of a matix\n",
    "print(np.linalg.matrix_power(mat, 0))                       # Identity matrix\n",
    "print(np.linalg.matrix_power(mat, -1))                      # Power of inverse of the matrix"
   ]
  },
  {
   "cell_type": "code",
   "execution_count": 9,
   "metadata": {},
   "outputs": [
    {
     "name": "stdout",
     "output_type": "stream",
     "text": [
      "[[1 2 4]\n",
      " [0 0 5]\n",
      " [0 3 6]]\n",
      "3\n",
      "EigResult(eigenvalues=array([ 1.        , -1.89897949,  7.89897949]), eigenvectors=matrix([[ 1.        ,  0.15322019, -0.54200088],\n",
      "        [ 0.        , -0.92380832, -0.44947354],\n",
      "        [ 0.        ,  0.35085861, -0.71007646]]))\n",
      "SVDResult(U=matrix([[-0.48230611,  0.34079841,  0.80699273],\n",
      "        [-0.50598873, -0.86038479,  0.06093774],\n",
      "        [-0.71509176,  0.37893858, -0.587409  ]]), S=array([9.29847275, 1.96599193, 0.8205365 ]), Vh=matrix([[-0.05186939, -0.33445143, -0.94098449],\n",
      "        [ 0.1733468 ,  0.92493389, -0.33830191],\n",
      "        [ 0.983494  , -0.18066416,  0.01000033]]))\n",
      "QRResult(Q=matrix([[ 1.,  0.,  0.],\n",
      "        [ 0.,  0., -1.],\n",
      "        [ 0., -1.,  0.]]), R=matrix([[ 1.,  2.,  4.],\n",
      "        [ 0., -3., -6.],\n",
      "        [ 0.,  0., -5.]]))\n"
     ]
    }
   ],
   "source": [
    "vec = np.matrix(\"1 2 4; 0 0 5; 0 3 6\")\n",
    "print(vec)\n",
    "\n",
    "print(np.linalg.matrix_rank(vec))                         # Rank of a matrix\n",
    "print(np.linalg.eig(vec))                                 # Eigen values and Eigen vectors\n",
    "print(np.linalg.svd(vec))                                 # Singular Value Decomposition\n",
    "print(np.linalg.qr(vec))                                  # QR Decomposition\n",
    "# And much more"
   ]
  },
  {
   "cell_type": "markdown",
   "metadata": {},
   "source": [
    "Miscellaneous"
   ]
  },
  {
   "cell_type": "code",
   "execution_count": 10,
   "metadata": {},
   "outputs": [
    {
     "name": "stdout",
     "output_type": "stream",
     "text": [
      "[[1 4]\n",
      " [2 5]\n",
      " [3 6]]\n",
      "[[1 4]\n",
      " [2 5]\n",
      " [3 6]]\n",
      "[[1. 2. 3.]\n",
      " [4. 5. 6.]]\n",
      "[[1, 2, 3], [4, 5, 6]]\n",
      "[[4 5 6]\n",
      " [1 2 3]]\n",
      "[4 5 6 1 2 3]\n",
      "[4 5 6 1 2 3]\n",
      "(array([1, 2, 3, 4, 5, 6]), array([3, 4, 5, 0, 1, 2], dtype=int64), array([1, 1, 1, 1, 1, 1], dtype=int64))\n",
      "(0, 0) 4\n",
      "(0, 1) 5\n",
      "(0, 2) 6\n",
      "(1, 0) 1\n",
      "(1, 1) 2\n",
      "(1, 2) 3\n"
     ]
    }
   ],
   "source": [
    "arr = np.array([[1, 2, 3], [4, 5, 6]])\n",
    "\n",
    "print(arr.T)                                                    # Same as np.transpose(arr)\n",
    "\n",
    "print(np.swapaxes(arr, 1, 0))\n",
    "\n",
    "print(arr.astype(float))                                        # Same as np.float32(arr)\n",
    "\n",
    "print(arr.tolist())\n",
    "\n",
    "np.random.shuffle(arr)\n",
    "print(arr)\n",
    "\n",
    "print(arr.flatten(order=\"K\"))                                   # F: column-major, C: row-major, K: Original, A: Fortran-like\n",
    "print(arr.ravel(order=\"C\"))                                     # Same as flatten, but returns a view\n",
    "\n",
    "print(np.unique(arr,return_index=True,return_counts=True))\n",
    "\n",
    "for index, ele in np.ndenumerate(arr):\n",
    "    print(index, ele)"
   ]
  }
 ],
 "metadata": {
  "kernelspec": {
   "display_name": "Python 3",
   "language": "python",
   "name": "python3"
  },
  "language_info": {
   "codemirror_mode": {
    "name": "ipython",
    "version": 3
   },
   "file_extension": ".py",
   "mimetype": "text/x-python",
   "name": "python",
   "nbconvert_exporter": "python",
   "pygments_lexer": "ipython3",
   "version": "3.12.4"
  }
 },
 "nbformat": 4,
 "nbformat_minor": 2
}
